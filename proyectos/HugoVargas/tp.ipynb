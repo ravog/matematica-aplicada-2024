{
 "cells": [
  {
   "cell_type": "code",
   "execution_count": 198,
   "metadata": {},
   "outputs": [
    {
     "name": "stdout",
     "output_type": "stream",
     "text": [
      "Requirement already satisfied: nltk in /opt/conda/lib/python3.11/site-packages (3.9.1)\n",
      "Requirement already satisfied: click in /opt/conda/lib/python3.11/site-packages (from nltk) (8.1.7)\n",
      "Requirement already satisfied: joblib in /opt/conda/lib/python3.11/site-packages (from nltk) (1.3.2)\n",
      "Requirement already satisfied: regex>=2021.8.3 in /opt/conda/lib/python3.11/site-packages (from nltk) (2024.9.11)\n",
      "Requirement already satisfied: tqdm in /opt/conda/lib/python3.11/site-packages (from nltk) (4.66.1)\n",
      "Note: you may need to restart the kernel to use updated packages.\n",
      "Requirement already satisfied: scikit-fuzzy in /opt/conda/lib/python3.11/site-packages (0.5.0)\n",
      "Note: you may need to restart the kernel to use updated packages.\n"
     ]
    },
    {
     "name": "stderr",
     "output_type": "stream",
     "text": [
      "[nltk_data] Downloading package punkt to /home/jovyan/nltk_data...\n",
      "[nltk_data]   Package punkt is already up-to-date!\n",
      "[nltk_data] Downloading package punkt_tab to /home/jovyan/nltk_data...\n",
      "[nltk_data]   Package punkt_tab is already up-to-date!\n",
      "[nltk_data] Downloading package averaged_perceptron_tagger_eng to\n",
      "[nltk_data]     /home/jovyan/nltk_data...\n",
      "[nltk_data]   Package averaged_perceptron_tagger_eng is already up-to-\n",
      "[nltk_data]       date!\n",
      "[nltk_data] Downloading package vader_lexicon to\n",
      "[nltk_data]     /home/jovyan/nltk_data...\n",
      "[nltk_data]   Package vader_lexicon is already up-to-date!\n"
     ]
    }
   ],
   "source": [
    "%pip install nltk\n",
    "%pip install scikit-fuzzy\n",
    "import pandas as pd\n",
    "import re\n",
    "import nltk\n",
    "import os\n",
    "import numpy as np\n",
    "import skfuzzy as fuzz\n",
    "import time\n",
    "import matplotlib.pyplot as plt\n",
    "nltk.download('punkt')\n",
    "nltk.download('punkt_tab')\n",
    "nltk.download('averaged_perceptron_tagger_eng')\n",
    "nltk.download('vader_lexicon')\n",
    "from nltk.sentiment import SentimentIntensityAnalyzer\n",
    "vader = SentimentIntensityAnalyzer()\n",
    "\n",
    "\n",
    "pd.set_option('display.max_colwidth', 1000)"
   ]
  },
  {
   "cell_type": "code",
   "execution_count": 199,
   "metadata": {
    "editable": true,
    "slideshow": {
     "slide_type": ""
    },
    "tags": []
   },
   "outputs": [],
   "source": [
    "def remove_urla(row):\n",
    "    text = row['sentence']\n",
    "    # Remove URLs\n",
    "    text = re.sub(r'http\\S+|www\\S+|https\\S+', '', text, flags=re.MULTILINE)\n",
    "    # Remove letras repetidas sin sentido\n",
    "    text = re.sub(r'(.)\\1{2,}', r'\\1', text, flags=re.MULTILINE)\n",
    "    # Remove '@' symbols\n",
    "    text = text.replace('@', '')\n",
    "    return text\n",
    "\n",
    "def expand_contractions(row):\n",
    "    text = row['clean_sentence']\n",
    "    contractions_dict = {\n",
    "        \"can t \": \"can not \",\n",
    "        \"won t \": \"will not \",\n",
    "        \"n t \": \" not \",\n",
    "        \" re \": \" are \",\n",
    "        \" s \": \" is \",\n",
    "        \" d \": \" would \",\n",
    "        \" ll \": \" will \",\n",
    "        \" t \": \" not \",\n",
    "        \" ve \": \" have \",\n",
    "        \" m \": \" am \"\n",
    "    }\n",
    "    \n",
    "    contractions_re = re.compile('(%s)' % '|'.join(contractions_dict.keys()))\n",
    "\n",
    "    def replace(match):\n",
    "        return contractions_dict[match.group(0)]\n",
    "\n",
    "    return contractions_re.sub(replace, text)\n",
    "\n",
    "def lexicon(row):\n",
    "    # Se aplica Vader\n",
    "    start = time.time()\n",
    "    text = row['sentence']\n",
    "    scores = vader.polarity_scores(text)\n",
    "    spent = time.time() - start\n",
    "    \n",
    "    return pd.Series([scores['neg'], scores['pos'], spent])\n",
    "\n",
    "x_p = np.arange(0, 1, 0.1)\n",
    "x_n = np.arange(0, 1, 0.1)\n",
    "x_op = np.arange(0, 10, 1)\n",
    "\n",
    "def fuzzier(row):\n",
    "    start = time.time()\n",
    "    negativo = row['negativo']\n",
    "    positivo = row['positivo']\n",
    "\n",
    "    low_grado_positivo = fuzz.interp_membership(x_p, pos_low, positivo)\n",
    "    mid_grado_positivo = fuzz.interp_membership(x_p, pos_mid, positivo)\n",
    "    high_grado_positivo = fuzz.interp_membership(x_p, pos_high, positivo)\n",
    "    \n",
    "    low_grado_negativo = fuzz.interp_membership(x_n, neg_low, negativo)\n",
    "    mid_grado_negativo = fuzz.interp_membership(x_n, neg_mid, negativo)\n",
    "    high_grado_negativo = fuzz.interp_membership(x_n, neg_high, negativo)\n",
    "    spent = row['tiempo'] + time.time() - start\n",
    "\n",
    "    return pd.Series([low_grado_positivo, mid_grado_positivo, high_grado_positivo, low_grado_negativo, mid_grado_negativo, high_grado_negativo, spent])\n",
    "\n",
    "def ruler(row):\n",
    "    start = time.time()\n",
    "    res = pd.Series([\n",
    "        np.fmin(row['low_grado_positivo'],row['low_grado_negativo']), #r1\n",
    "        np.fmin(row['mid_grado_positivo'],row['low_grado_negativo']), #r2\n",
    "        np.fmin(row['high_grado_positivo'],row['low_grado_negativo']), #r3\n",
    "        np.fmin(row['low_grado_positivo'],row['mid_grado_negativo']), #r4\n",
    "        np.fmin(row['mid_grado_positivo'],row['mid_grado_negativo']), #r5\n",
    "        np.fmin(row['high_grado_positivo'],row['mid_grado_negativo']), #r6\n",
    "        np.fmin(row['low_grado_positivo'],row['high_grado_negativo']), #r7\n",
    "        np.fmin(row['mid_grado_positivo'],row['high_grado_negativo']), #r8\n",
    "        np.fmin(row['high_grado_positivo'],row['high_grado_negativo']), #r9\n",
    "        row['tiempo'] + time.time() - start\n",
    "    ])\n",
    "    \n",
    "    return res\n",
    "\n",
    "def aggregator(row):\n",
    "    start = time.time()\n",
    "    wneg = np.fmax(row['r4'], np.fmax(row['r7'], row['r8']))\n",
    "    wpos = np.fmax(row['r1'], np.fmax(row['r5'], row['r9']))\n",
    "    wmid = np.fmax(row['r2'], np.fmax(row['r3'], row['r6']))\n",
    "\n",
    "    op_activation_low = np.fmin(wneg, op_neg)\n",
    "    op_activation_mid = np.fmin(wmid, op_mid)\n",
    "    op_activation_high = np.fmin(wpos, op_pos)\n",
    "\n",
    "    aggregated = np.fmax(op_activation_low, np.fmax(op_activation_mid, op_activation_high))\n",
    "    spent = row['tiempo'] + time.time() - start\n",
    "\n",
    "    return pd.Series([wneg, wpos, wmid, op_activation_low, op_activation_mid, op_activation_high, aggregated, spent])\n",
    "\n",
    "def defuzzier(row):\n",
    "    start = time.time()\n",
    "    coa = fuzz.defuzz(x_op, row['aggregated'], 'centroid')\n",
    "\n",
    "    defuzz_class = 'Negativo'\n",
    "    if coa > 3.3 and coa < 6.7:\n",
    "        defuzz_class = 'Neutral'\n",
    "    elif coa > 6.7 and coa < 10:\n",
    "        defuzz_class = 'Positive'\n",
    "\n",
    "    spent = row['tiempo'] + time.time() - start\n",
    "\n",
    "    return pd.Series([coa, defuzz_class, spent])"
   ]
  },
  {
   "cell_type": "code",
   "execution_count": 200,
   "metadata": {},
   "outputs": [],
   "source": [
    "df = pd.read_csv('test_data.csv')"
   ]
  },
  {
   "cell_type": "markdown",
   "metadata": {},
   "source": [
    "### Text Pre-processing"
   ]
  },
  {
   "cell_type": "code",
   "execution_count": 201,
   "metadata": {},
   "outputs": [],
   "source": [
    "df['clean_sentence'] = df.apply(remove_urla, axis=1)\n",
    "df['clean_sentence'] = df.apply(expand_contractions, axis=1)"
   ]
  },
  {
   "cell_type": "markdown",
   "metadata": {},
   "source": [
    "#### Lexicón de Sentimientos"
   ]
  },
  {
   "cell_type": "code",
   "execution_count": 202,
   "metadata": {},
   "outputs": [],
   "source": [
    "# lexicon call\n",
    "df[['negativo', 'positivo', 'tiempo']]=df.apply(lexicon, axis=1)"
   ]
  },
  {
   "cell_type": "markdown",
   "metadata": {},
   "source": [
    "#### Fuzzificación"
   ]
  },
  {
   "cell_type": "code",
   "execution_count": 203,
   "metadata": {},
   "outputs": [],
   "source": [
    "neg_min = df['negativo'].min()\n",
    "neg_max = df['negativo'].max()\n",
    "pos_min = df['positivo'].min()\n",
    "pos_max = df['positivo'].max()\n",
    "neg_mid_val = (neg_max + neg_min)/2\n",
    "pos_mid_val = (pos_max + pos_min)/2\n",
    "pos_low = fuzz.trimf(x_p, [pos_min, pos_min, pos_mid_val])\n",
    "pos_mid = fuzz.trimf(x_p, [pos_min, pos_mid_val, pos_max])\n",
    "pos_high = fuzz.trimf(x_p, [pos_mid_val, pos_max, pos_max])\n",
    "neg_low = fuzz.trimf(x_n, [neg_min, neg_min, neg_mid_val])\n",
    "neg_mid = fuzz.trimf(x_p, [neg_min, neg_mid_val, neg_max])\n",
    "neg_high = fuzz.trimf(x_p, [neg_mid_val, neg_max, neg_max])\n",
    "op_neg = fuzz.trimf(x_op, [0, 0, 5])\n",
    "op_mid = fuzz.trimf(x_op, [0, 5, 10])\n",
    "op_pos = fuzz.trimf(x_op, [5, 10, 10])\n",
    "\n",
    "# fuzzier call\n",
    "df[['low_grado_positivo', 'mid_grado_positivo', 'high_grado_positivo', 'low_grado_negativo', 'mid_grado_negativo', 'high_grado_negativo', 'tiempo']]=df.apply(fuzzier, axis=1)"
   ]
  },
  {
   "cell_type": "markdown",
   "metadata": {},
   "source": [
    "#### Base de reglas"
   ]
  },
  {
   "cell_type": "code",
   "execution_count": 204,
   "metadata": {},
   "outputs": [],
   "source": [
    "# ruler call\n",
    "df[['r1','r2','r3','r4','r5','r6','r7','r8','r9', 'tiempo']] = df.apply(ruler, axis=1)"
   ]
  },
  {
   "cell_type": "code",
   "execution_count": 205,
   "metadata": {},
   "outputs": [],
   "source": [
    "# aggregator call\n",
    "df[['wneg', 'wpos', 'wmid', 'op_activation_low', 'op_activation_mid', 'op_activation_high', 'aggregated', 'tiempo']] = df.apply(aggregator, axis=1)"
   ]
  },
  {
   "cell_type": "markdown",
   "metadata": {},
   "source": [
    "#### Defuzzificacion"
   ]
  },
  {
   "cell_type": "code",
   "execution_count": 206,
   "metadata": {},
   "outputs": [],
   "source": [
    "# deffuzzier call\n",
    "df[['defuzz_coa', 'defuzz_class', 'tiempo']] = df.apply(defuzzier, axis=1)"
   ]
  },
  {
   "cell_type": "code",
   "execution_count": 207,
   "metadata": {},
   "outputs": [
    {
     "data": {
      "text/html": [
       "<div>\n",
       "<style scoped>\n",
       "    .dataframe tbody tr th:only-of-type {\n",
       "        vertical-align: middle;\n",
       "    }\n",
       "\n",
       "    .dataframe tbody tr th {\n",
       "        vertical-align: top;\n",
       "    }\n",
       "\n",
       "    .dataframe thead th {\n",
       "        text-align: right;\n",
       "    }\n",
       "</style>\n",
       "<table border=\"1\" class=\"dataframe\">\n",
       "  <thead>\n",
       "    <tr style=\"text-align: right;\">\n",
       "      <th></th>\n",
       "      <th>sentiment</th>\n",
       "      <th>defuzz_class</th>\n",
       "      <th>defuzz_coa</th>\n",
       "      <th>clean_sentence</th>\n",
       "      <th>tiempo</th>\n",
       "    </tr>\n",
       "  </thead>\n",
       "  <tbody>\n",
       "    <tr>\n",
       "      <th>0</th>\n",
       "      <td>1</td>\n",
       "      <td>Neutral</td>\n",
       "      <td>4.910571</td>\n",
       "      <td>i love my kindle not that the dx is cool but the is fantastic in its own right</td>\n",
       "      <td>0.000685</td>\n",
       "    </tr>\n",
       "    <tr>\n",
       "      <th>1</th>\n",
       "      <td>1</td>\n",
       "      <td>Neutral</td>\n",
       "      <td>4.908400</td>\n",
       "      <td>reading my kindle love it lee childs is good read</td>\n",
       "      <td>0.000386</td>\n",
       "    </tr>\n",
       "    <tr>\n",
       "      <th>2</th>\n",
       "      <td>1</td>\n",
       "      <td>Neutral</td>\n",
       "      <td>5.062744</td>\n",
       "      <td>ok first assesment of the kindle it fucking rocks</td>\n",
       "      <td>0.000269</td>\n",
       "    </tr>\n",
       "    <tr>\n",
       "      <th>3</th>\n",
       "      <td>1</td>\n",
       "      <td>Neutral</td>\n",
       "      <td>4.797403</td>\n",
       "      <td>you will love your kindle i have had mine for a few months and never looked back the new big one is huge no need for remorse</td>\n",
       "      <td>0.000410</td>\n",
       "    </tr>\n",
       "    <tr>\n",
       "      <th>4</th>\n",
       "      <td>1</td>\n",
       "      <td>Neutral</td>\n",
       "      <td>4.909013</td>\n",
       "      <td>fair enough but i have the kindle and i think it is perfect</td>\n",
       "      <td>0.000270</td>\n",
       "    </tr>\n",
       "    <tr>\n",
       "      <th>5</th>\n",
       "      <td>1</td>\n",
       "      <td>Neutral</td>\n",
       "      <td>4.723839</td>\n",
       "      <td>no it is too big i am quite happy with the kindle</td>\n",
       "      <td>0.000253</td>\n",
       "    </tr>\n",
       "    <tr>\n",
       "      <th>6</th>\n",
       "      <td>0</td>\n",
       "      <td>Negativo</td>\n",
       "      <td>1.905230</td>\n",
       "      <td>fuck this economy i hate aig and their non loan given asses</td>\n",
       "      <td>0.000273</td>\n",
       "    </tr>\n",
       "    <tr>\n",
       "      <th>7</th>\n",
       "      <td>1</td>\n",
       "      <td>Neutral</td>\n",
       "      <td>4.894804</td>\n",
       "      <td>jquery is my new best friend</td>\n",
       "      <td>0.000234</td>\n",
       "    </tr>\n",
       "    <tr>\n",
       "      <th>8</th>\n",
       "      <td>1</td>\n",
       "      <td>Neutral</td>\n",
       "      <td>4.910616</td>\n",
       "      <td>loves twitter</td>\n",
       "      <td>0.000250</td>\n",
       "    </tr>\n",
       "    <tr>\n",
       "      <th>9</th>\n",
       "      <td>1</td>\n",
       "      <td>Neutral</td>\n",
       "      <td>4.215632</td>\n",
       "      <td>how can you not love obama he makes jokes about himself</td>\n",
       "      <td>0.000323</td>\n",
       "    </tr>\n",
       "    <tr>\n",
       "      <th>10</th>\n",
       "      <td>0</td>\n",
       "      <td>Neutral</td>\n",
       "      <td>4.646818</td>\n",
       "      <td>i firmly believe that obama pelosi have zero desire to be civil it is a charade and a slogan but they want to destroy conservatism</td>\n",
       "      <td>0.000323</td>\n",
       "    </tr>\n",
       "    <tr>\n",
       "      <th>11</th>\n",
       "      <td>1</td>\n",
       "      <td>Positive</td>\n",
       "      <td>7.666667</td>\n",
       "      <td>house correspondents dinner was last night whoopi barbara amp sherri went obama got a standing ovation</td>\n",
       "      <td>0.000298</td>\n",
       "    </tr>\n",
       "    <tr>\n",
       "      <th>12</th>\n",
       "      <td>1</td>\n",
       "      <td>Neutral</td>\n",
       "      <td>4.908467</td>\n",
       "      <td>watchin espn jus seen this new nike commerical with a puppet lebron sh not was hilarious lmao</td>\n",
       "      <td>0.000285</td>\n",
       "    </tr>\n",
       "    <tr>\n",
       "      <th>13</th>\n",
       "      <td>0</td>\n",
       "      <td>Neutral</td>\n",
       "      <td>4.759666</td>\n",
       "      <td>dear nike stop with the flywire that shit is a waste of science and ugly love</td>\n",
       "      <td>0.000293</td>\n",
       "    </tr>\n",
       "    <tr>\n",
       "      <th>14</th>\n",
       "      <td>1</td>\n",
       "      <td>Neutral</td>\n",
       "      <td>5.062744</td>\n",
       "      <td>lebron best athlete of our generation if not all time basketball related i do not want to get into inter sport debates about __</td>\n",
       "      <td>0.000317</td>\n",
       "    </tr>\n",
       "    <tr>\n",
       "      <th>15</th>\n",
       "      <td>0</td>\n",
       "      <td>Neutral</td>\n",
       "      <td>4.071954</td>\n",
       "      <td>i was talking to this guy last night and he was telling me that he is a die hard spurs fan he also told me that he hates lebron james</td>\n",
       "      <td>0.000353</td>\n",
       "    </tr>\n",
       "    <tr>\n",
       "      <th>16</th>\n",
       "      <td>1</td>\n",
       "      <td>Neutral</td>\n",
       "      <td>4.909756</td>\n",
       "      <td>i love lebron</td>\n",
       "      <td>0.000169</td>\n",
       "    </tr>\n",
       "    <tr>\n",
       "      <th>17</th>\n",
       "      <td>0</td>\n",
       "      <td>Neutral</td>\n",
       "      <td>4.908179</td>\n",
       "      <td>lebron is a beast but i am still cheering the a til the end</td>\n",
       "      <td>0.000237</td>\n",
       "    </tr>\n",
       "    <tr>\n",
       "      <th>18</th>\n",
       "      <td>1</td>\n",
       "      <td>Positive</td>\n",
       "      <td>7.666667</td>\n",
       "      <td>lebron is the boss</td>\n",
       "      <td>0.000162</td>\n",
       "    </tr>\n",
       "    <tr>\n",
       "      <th>19</th>\n",
       "      <td>1</td>\n",
       "      <td>Neutral</td>\n",
       "      <td>4.907191</td>\n",
       "      <td>lebron is a hometown hero to me lol i love the lakers but let is go cavs lol</td>\n",
       "      <td>0.000288</td>\n",
       "    </tr>\n",
       "    <tr>\n",
       "      <th>20</th>\n",
       "      <td>1</td>\n",
       "      <td>Neutral</td>\n",
       "      <td>4.909973</td>\n",
       "      <td>lebron and zydrunas are such an awesome duo</td>\n",
       "      <td>0.000225</td>\n",
       "    </tr>\n",
       "    <tr>\n",
       "      <th>21</th>\n",
       "      <td>1</td>\n",
       "      <td>Positive</td>\n",
       "      <td>7.666667</td>\n",
       "      <td>lebron is a beast nobody in the nba comes even close</td>\n",
       "      <td>0.000219</td>\n",
       "    </tr>\n",
       "    <tr>\n",
       "      <th>22</th>\n",
       "      <td>1</td>\n",
       "      <td>Neutral</td>\n",
       "      <td>5.174738</td>\n",
       "      <td>downloading apps for my iphone so much fun there literally is an app for just about anything</td>\n",
       "      <td>0.000307</td>\n",
       "    </tr>\n",
       "    <tr>\n",
       "      <th>23</th>\n",
       "      <td>1</td>\n",
       "      <td>Neutral</td>\n",
       "      <td>4.589587</td>\n",
       "      <td>good news just had a call from the visa office saying everything is fine what a relief i am sick of scams out there stealing</td>\n",
       "      <td>0.000355</td>\n",
       "    </tr>\n",
       "    <tr>\n",
       "      <th>24</th>\n",
       "      <td>1</td>\n",
       "      <td>Neutral</td>\n",
       "      <td>4.904606</td>\n",
       "      <td>awesome come back from via</td>\n",
       "      <td>0.000185</td>\n",
       "    </tr>\n",
       "  </tbody>\n",
       "</table>\n",
       "</div>"
      ],
      "text/plain": [
       "    sentiment defuzz_class  defuzz_coa  \\\n",
       "0           1      Neutral    4.910571   \n",
       "1           1      Neutral    4.908400   \n",
       "2           1      Neutral    5.062744   \n",
       "3           1      Neutral    4.797403   \n",
       "4           1      Neutral    4.909013   \n",
       "5           1      Neutral    4.723839   \n",
       "6           0     Negativo    1.905230   \n",
       "7           1      Neutral    4.894804   \n",
       "8           1      Neutral    4.910616   \n",
       "9           1      Neutral    4.215632   \n",
       "10          0      Neutral    4.646818   \n",
       "11          1     Positive    7.666667   \n",
       "12          1      Neutral    4.908467   \n",
       "13          0      Neutral    4.759666   \n",
       "14          1      Neutral    5.062744   \n",
       "15          0      Neutral    4.071954   \n",
       "16          1      Neutral    4.909756   \n",
       "17          0      Neutral    4.908179   \n",
       "18          1     Positive    7.666667   \n",
       "19          1      Neutral    4.907191   \n",
       "20          1      Neutral    4.909973   \n",
       "21          1     Positive    7.666667   \n",
       "22          1      Neutral    5.174738   \n",
       "23          1      Neutral    4.589587   \n",
       "24          1      Neutral    4.904606   \n",
       "\n",
       "                                                                                                                           clean_sentence  \\\n",
       "0                                                          i love my kindle not that the dx is cool but the is fantastic in its own right   \n",
       "1                                                                                       reading my kindle love it lee childs is good read   \n",
       "2                                                                                       ok first assesment of the kindle it fucking rocks   \n",
       "3            you will love your kindle i have had mine for a few months and never looked back the new big one is huge no need for remorse   \n",
       "4                                                                             fair enough but i have the kindle and i think it is perfect   \n",
       "5                                                                                       no it is too big i am quite happy with the kindle   \n",
       "6                                                                             fuck this economy i hate aig and their non loan given asses   \n",
       "7                                                                                                            jquery is my new best friend   \n",
       "8                                                                                                                           loves twitter   \n",
       "9                                                                                 how can you not love obama he makes jokes about himself   \n",
       "10     i firmly believe that obama pelosi have zero desire to be civil it is a charade and a slogan but they want to destroy conservatism   \n",
       "11                                 house correspondents dinner was last night whoopi barbara amp sherri went obama got a standing ovation   \n",
       "12                                          watchin espn jus seen this new nike commerical with a puppet lebron sh not was hilarious lmao   \n",
       "13                                                          dear nike stop with the flywire that shit is a waste of science and ugly love   \n",
       "14        lebron best athlete of our generation if not all time basketball related i do not want to get into inter sport debates about __   \n",
       "15  i was talking to this guy last night and he was telling me that he is a die hard spurs fan he also told me that he hates lebron james   \n",
       "16                                                                                                                          i love lebron   \n",
       "17                                                                            lebron is a beast but i am still cheering the a til the end   \n",
       "18                                                                                                                     lebron is the boss   \n",
       "19                                                           lebron is a hometown hero to me lol i love the lakers but let is go cavs lol   \n",
       "20                                                                                            lebron and zydrunas are such an awesome duo   \n",
       "21                                                                                   lebron is a beast nobody in the nba comes even close   \n",
       "22                                           downloading apps for my iphone so much fun there literally is an app for just about anything   \n",
       "23           good news just had a call from the visa office saying everything is fine what a relief i am sick of scams out there stealing   \n",
       "24                                                                                                             awesome come back from via   \n",
       "\n",
       "      tiempo  \n",
       "0   0.000685  \n",
       "1   0.000386  \n",
       "2   0.000269  \n",
       "3   0.000410  \n",
       "4   0.000270  \n",
       "5   0.000253  \n",
       "6   0.000273  \n",
       "7   0.000234  \n",
       "8   0.000250  \n",
       "9   0.000323  \n",
       "10  0.000323  \n",
       "11  0.000298  \n",
       "12  0.000285  \n",
       "13  0.000293  \n",
       "14  0.000317  \n",
       "15  0.000353  \n",
       "16  0.000169  \n",
       "17  0.000237  \n",
       "18  0.000162  \n",
       "19  0.000288  \n",
       "20  0.000225  \n",
       "21  0.000219  \n",
       "22  0.000307  \n",
       "23  0.000355  \n",
       "24  0.000185  "
      ]
     },
     "execution_count": 207,
     "metadata": {},
     "output_type": "execute_result"
    }
   ],
   "source": [
    "# Show auxiliar result\n",
    "df[['sentiment', 'defuzz_class', 'defuzz_coa', 'clean_sentence', 'tiempo']].head(25)"
   ]
  },
  {
   "cell_type": "code",
   "execution_count": 208,
   "metadata": {
    "editable": true,
    "slideshow": {
     "slide_type": ""
    },
    "tags": []
   },
   "outputs": [],
   "source": [
    "new_colnames = ['Oracion original', 'Label Original', 'Puntaje negativo', 'Puntaje positivo', 'Inferencia', 'Tiempo de ejecucion']\n",
    "result_df = df[['sentence', 'sentiment', 'negativo', 'positivo', 'defuzz_class', 'tiempo']]\n",
    "result_df.columns = new_colnames\n",
    "result_df.to_csv('results.csv', index=False)"
   ]
  },
  {
   "cell_type": "code",
   "execution_count": 209,
   "metadata": {
    "editable": true,
    "slideshow": {
     "slide_type": ""
    },
    "tags": []
   },
   "outputs": [
    {
     "data": {
      "image/png": "[encoded data removed]",
      "text/plain": [
       "<Figure size 400x400 with 1 Axes>"
      ]
     },
     "metadata": {},
     "output_type": "display_data"
    }
   ],
   "source": [
    "counts = result_df['Inferencia'].value_counts()\n",
    "counts.plot.bar()\n",
    "ax = counts.plot(kind='bar', figsize=(4, 4))\n",
    "\n",
    "# Add value labels on top of bars\n",
    "for i, value in enumerate(counts):\n",
    "    ax.text(i, value + 0.1, str(value), ha='center', va='bottom')\n",
    "    \n",
    "plt.title('Total de los Resultados')\n",
    "plt.show()"
   ]
  },
  {
   "cell_type": "markdown",
   "metadata": {},
   "source": [
    "#### Total de tiempo por clase en segundos"
   ]
  },
  {
   "cell_type": "code",
   "execution_count": 210,
   "metadata": {},
   "outputs": [
    {
     "data": {
      "text/plain": [
       "Inferencia\n",
       "Negativo    0.009392\n",
       "Neutral     0.068382\n",
       "Positive    0.010867\n",
       "Name: Tiempo de ejecucion, dtype: float64"
      ]
     },
     "execution_count": 210,
     "metadata": {},
     "output_type": "execute_result"
    }
   ],
   "source": [
    "time_sum = result_df.groupby('Inferencia')['Tiempo de ejecucion'].sum()\n",
    "time_sum"
   ]
  },
  {
   "cell_type": "markdown",
   "metadata": {},
   "source": [
    "#### Promedio de tiempo por clase en segundos"
   ]
  },
  {
   "cell_type": "code",
   "execution_count": 211,
   "metadata": {},
   "outputs": [
    {
     "data": {
      "text/plain": [
       "Inferencia\n",
       "Negativo    0.000213\n",
       "Neutral     0.000264\n",
       "Positive    0.000194\n",
       "dtype: float64"
      ]
     },
     "execution_count": 211,
     "metadata": {},
     "output_type": "execute_result"
    }
   ],
   "source": [
    "time_sum / counts"
   ]
  },
  {
   "cell_type": "code",
   "execution_count": null,
   "metadata": {
    "editable": true,
    "slideshow": {
     "slide_type": ""
    },
    "tags": []
   },
   "outputs": [],
   "source": []
  }
 ],
 "metadata": {
  "kernelspec": {
   "display_name": "Python 3 (ipykernel)",
   "language": "python",
   "name": "python3"
  },
  "language_info": {
   "codemirror_mode": {
    "name": "ipython",
    "version": 3
   },
   "file_extension": ".py",
   "mimetype": "text/x-python",
   "name": "python",
   "nbconvert_exporter": "python",
   "pygments_lexer": "ipython3",
   "version": "3.11.6"
  }
 },
 "nbformat": 4,
 "nbformat_minor": 4
}
